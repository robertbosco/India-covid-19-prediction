{
 "cells": [
  {
   "cell_type": "code",
   "execution_count": 168,
   "metadata": {},
   "outputs": [],
   "source": [
    "import pandas as pd\n",
    "import numpy as np\n",
    "import matplotlib.pyplot as plt\n",
    "from scipy.optimize import curve_fit\n",
    "from sklearn.metrics import r2_score"
   ]
  },
  {
   "cell_type": "code",
   "execution_count": 9,
   "metadata": {},
   "outputs": [
    {
     "data": {
      "text/html": [
       "<div>\n",
       "<style scoped>\n",
       "    .dataframe tbody tr th:only-of-type {\n",
       "        vertical-align: middle;\n",
       "    }\n",
       "\n",
       "    .dataframe tbody tr th {\n",
       "        vertical-align: top;\n",
       "    }\n",
       "\n",
       "    .dataframe thead th {\n",
       "        text-align: right;\n",
       "    }\n",
       "</style>\n",
       "<table border=\"1\" class=\"dataframe\">\n",
       "  <thead>\n",
       "    <tr style=\"text-align: right;\">\n",
       "      <th></th>\n",
       "      <th>days</th>\n",
       "      <th>date</th>\n",
       "      <th>location</th>\n",
       "      <th>new_cases</th>\n",
       "      <th>new_deaths</th>\n",
       "      <th>total_cases</th>\n",
       "      <th>total_deaths</th>\n",
       "    </tr>\n",
       "  </thead>\n",
       "  <tbody>\n",
       "    <tr>\n",
       "      <td>75</td>\n",
       "      <td>75</td>\n",
       "      <td>2020-05-29</td>\n",
       "      <td>India</td>\n",
       "      <td>7466</td>\n",
       "      <td>175</td>\n",
       "      <td>165799</td>\n",
       "      <td>4706</td>\n",
       "    </tr>\n",
       "    <tr>\n",
       "      <td>76</td>\n",
       "      <td>76</td>\n",
       "      <td>2020-05-30</td>\n",
       "      <td>India</td>\n",
       "      <td>7964</td>\n",
       "      <td>265</td>\n",
       "      <td>173763</td>\n",
       "      <td>4971</td>\n",
       "    </tr>\n",
       "    <tr>\n",
       "      <td>77</td>\n",
       "      <td>77</td>\n",
       "      <td>2020-05-31</td>\n",
       "      <td>India</td>\n",
       "      <td>8380</td>\n",
       "      <td>193</td>\n",
       "      <td>182143</td>\n",
       "      <td>5164</td>\n",
       "    </tr>\n",
       "    <tr>\n",
       "      <td>78</td>\n",
       "      <td>78</td>\n",
       "      <td>2020-06-01</td>\n",
       "      <td>India</td>\n",
       "      <td>8392</td>\n",
       "      <td>230</td>\n",
       "      <td>190535</td>\n",
       "      <td>5394</td>\n",
       "    </tr>\n",
       "    <tr>\n",
       "      <td>79</td>\n",
       "      <td>79</td>\n",
       "      <td>2020-06-02</td>\n",
       "      <td>India</td>\n",
       "      <td>8171</td>\n",
       "      <td>204</td>\n",
       "      <td>198706</td>\n",
       "      <td>5598</td>\n",
       "    </tr>\n",
       "  </tbody>\n",
       "</table>\n",
       "</div>"
      ],
      "text/plain": [
       "    days        date location  new_cases  new_deaths  total_cases  total_deaths\n",
       "75    75  2020-05-29    India       7466         175       165799          4706\n",
       "76    76  2020-05-30    India       7964         265       173763          4971\n",
       "77    77  2020-05-31    India       8380         193       182143          5164\n",
       "78    78  2020-06-01    India       8392         230       190535          5394\n",
       "79    79  2020-06-02    India       8171         204       198706          5598"
      ]
     },
     "execution_count": 9,
     "metadata": {},
     "output_type": "execute_result"
    }
   ],
   "source": [
    "pd.set_option('display.max_rows',500)\n",
    "pd.set_option('display.max_column',500)\n",
    "pd.set_option('display.width',1000)\n",
    "\n",
    "path='https://covid.ourworldindata.org/data/ecdc/'\n",
    "df = pd.read_csv(path+'full_data.csv')\n",
    "ind = df[(df['location']=='India') & (df['date'] >='2020-03-15')].reset_index(drop=True).reset_index()\n",
    "ind = ind.rename(columns={'index':'days'})\n",
    "ind.tail()"
   ]
  },
  {
   "cell_type": "code",
   "execution_count": 109,
   "metadata": {},
   "outputs": [],
   "source": [
    "#Poly func:\n",
    "def poly_func(x, *coefs):\n",
    "    return sum([coefs[i] * x**i for i in range(len(coefs))])"
   ]
  },
  {
   "cell_type": "code",
   "execution_count": 248,
   "metadata": {},
   "outputs": [],
   "source": [
    "class total_cases_model:\n",
    "    def __init__(self, t_split):\n",
    "        self.t_split = t_split\n",
    "        \n",
    "                \n",
    "    def dashboard(self):    \n",
    "        fig, axes = plt.subplots(2,2, figsize=(16,10))\n",
    "        fig.subplots_adjust(hspace= 0.4)\n",
    "        fig.suptitle('Dashboard')\n",
    "        \n",
    "        for ax,data,name in zip(axes.flatten(), ind.iloc[:,3:].values.T, ind.columns.values[3:]):\n",
    "            f = ax.plot(ind.index.values,data)\n",
    "            f = ax.set(title=name, xlabel='days')\n",
    "        return f \n",
    "    \n",
    "    def train_model(self):\n",
    "         \n",
    "        # extract X and Y data:\n",
    "        x_data, y_data =(ind.index.values,ind['total_cases'].values)\n",
    "        \n",
    "        #Train and test split: self.t_split(e.g: 0.8 is 80% train and 20% test) \n",
    "        temp = np.random.random(len(ind)) < self.t_split\n",
    "        train_x = x_data[temp]\n",
    "        train_y = y_data[temp]\n",
    "        test_x  = x_data[~temp]\n",
    "        test_y  = y_data[~temp]\n",
    "        \n",
    "        #Train Model\n",
    "        coefs, _   = curve_fit(poly_func, train_x, train_y, p0=np.ones(5))\n",
    "        y_hat = poly_func(test_x,*coefs)\n",
    "            \n",
    "        #Evaluation:\n",
    "        print(\"Mean absolute error: %.2f\" % np.mean(np.absolute(y_hat - test_y)))\n",
    "        print(\"Residual sum of squares (MSE): %.2f\" % np.mean((y_hat - test_y) ** 2))\n",
    "        print(\"R2 Score: %.2f\" % r2_score(y_hat,test_y))\n",
    "\n",
    "        #Plot the Result\n",
    "        plt.figure(figsize=(8,5))\n",
    "        plt.plot(test_x,test_y,'ro', label='actual')\n",
    "        plt.plot(test_x,y_hat,linewidth=3.0, label='fit')\n",
    "        plt.title(\"Training Model\")\n",
    "        plt.legend(loc='best')\n",
    "        plt.ylabel('cases')\n",
    "        plt.xlabel('day')\n",
    "        return coefs, _\n",
    "    \n",
    "          \n",
    "    def predict(self):\n",
    "        coefs, _ = self.train_model() \n",
    "        x_pred = np.arange(max(ind.days)+1,max(ind.days)+11)\n",
    "        start_day = (pd.Timestamp(max(ind.date))+ pd.DateOffset(days=1)).strftime('%Y-%m-%d')\n",
    "        end_day   = (pd.Timestamp(max(ind.date))+ pd.DateOffset(days=11)).strftime('%Y-%m-%d')        \n",
    "        day = np.arange(np.datetime64(start_day), np.datetime64(end_day))\n",
    "        pred = poly_func(x_pred,*coefs)\n",
    "        pred_df = pd.DataFrame({'day': x_pred, 'date':day, 'pred_total_cases':np.around(pred,decimals=0)}, index=x_pred )\n",
    "        \n",
    "        plt.figure(figsize=(8,5))\n",
    "        pred_df.plot(x='date',y='pred_total_cases')\n",
    "        plt.grid()\n",
    "        plt.legend(loc='best')\n",
    "        plt.title('Prediction of next 10 days')\n",
    "        return plt.show(), pred_df\n",
    "    "
   ]
  },
  {
   "cell_type": "code",
   "execution_count": 249,
   "metadata": {},
   "outputs": [
    {
     "name": "stdout",
     "output_type": "stream",
     "text": [
      "Mean absolute error: 483.77\n",
      "Residual sum of squares (MSE): 354159.67\n",
      "R2 Score: 1.00\n"
     ]
    },
    {
     "data": {
      "image/png": "[encoded data removed]",
      "text/plain": [
       "<Figure size 576x360 with 1 Axes>"
      ]
     },
     "metadata": {
      "needs_background": "light"
     },
     "output_type": "display_data"
    },
    {
     "data": {
      "text/plain": [
       "<Figure size 576x360 with 0 Axes>"
      ]
     },
     "metadata": {},
     "output_type": "display_data"
    },
    {
     "data": {
      "image/png": "[encoded data removed]",
      "text/plain": [
       "<Figure size 432x288 with 1 Axes>"
      ]
     },
     "metadata": {
      "needs_background": "light"
     },
     "output_type": "display_data"
    },
    {
     "data": {
      "text/plain": [
       "(None,     day       date  pred_total_cases\n",
       " 80   80 2020-06-03          208390.0\n",
       " 81   81 2020-06-04          217759.0\n",
       " 82   82 2020-06-05          227454.0\n",
       " 83   83 2020-06-06          237486.0\n",
       " 84   84 2020-06-07          247861.0\n",
       " 85   85 2020-06-08          258589.0\n",
       " 86   86 2020-06-09          269678.0\n",
       " 87   87 2020-06-10          281136.0\n",
       " 88   88 2020-06-11          292972.0\n",
       " 89   89 2020-06-12          305195.0)"
      ]
     },
     "execution_count": 249,
     "metadata": {},
     "output_type": "execute_result"
    }
   ],
   "source": [
    "c = total_cases_model(0.8)\n",
    "c.predict()"
   ]
  },
  {
   "cell_type": "code",
   "execution_count": null,
   "metadata": {},
   "outputs": [],
   "source": []
  }
 ],
 "metadata": {
  "kernelspec": {
   "display_name": "Python 3",
   "language": "python",
   "name": "python3"
  },
  "language_info": {
   "codemirror_mode": {
    "name": "ipython",
    "version": 3
   },
   "file_extension": ".py",
   "mimetype": "text/x-python",
   "name": "python",
   "nbconvert_exporter": "python",
   "pygments_lexer": "ipython3",
   "version": "3.7.4"
  }
 },
 "nbformat": 4,
 "nbformat_minor": 2
}
